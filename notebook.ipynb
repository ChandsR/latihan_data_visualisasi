{
  "nbformat": 4,
  "nbformat_minor": 0,
  "metadata": {
    "colab": {
      "provenance": [],
      "toc_visible": true,
      "authorship_tag": "ABX9TyNBIlZy/QcwEzvanTOG5gic",
      "include_colab_link": true
    },
    "kernelspec": {
      "name": "python3",
      "display_name": "Python 3"
    },
    "language_info": {
      "name": "python"
    }
  },
  "cells": [
    {
      "cell_type": "markdown",
      "metadata": {
        "id": "view-in-github",
        "colab_type": "text"
      },
      "source": [
        "<a href=\"https://colab.research.google.com/github/ChandsR/latihan_data_visualisasi/blob/main/notebook.ipynb\" target=\"_parent\"><img src=\"https://colab.research.google.com/assets/colab-badge.svg\" alt=\"Open In Colab\"/></a>"
      ]
    },
    {
      "cell_type": "markdown",
      "source": [
        "# Pendahuluan\n",
        "Dokumentasi ini menjelaskan langkah-langkah untuk membuat aplikasi dashboard interaktif yang menganalisis data penyewaan sepeda. Aplikasi ini akan memuat data, melakukan pembersihan, dan menampilkan visualisasi interaktif menggunakan Streamlit dan Plotly."
      ],
      "metadata": {
        "id": "TxH7cOtevDHb"
      }
    },
    {
      "cell_type": "markdown",
      "source": [
        "#Menyiapkan semua library yang dibutuhkan\n",
        "Persiapan Lingkungan\n",
        "Sebelum memulai, pastikan Anda memiliki akses ke Google Colab dan telah menginstal pustaka yang diperlukan. Karena Streamlit tidak berjalan secara native di Google Colab, kita memerlukan beberapa konfigurasi tambahan."
      ],
      "metadata": {
        "id": "kqtBZJ_A1XwI"
      }
    },
    {
      "cell_type": "code",
      "source": [
        "!pip install streamlit pandas plotly"
      ],
      "metadata": {
        "collapsed": true,
        "id": "QVmkJjcHvc2M",
        "outputId": "ba37b16f-8d0f-4801-c9bb-f652fd50c481",
        "colab": {
          "base_uri": "https://localhost:8080/"
        }
      },
      "execution_count": 1,
      "outputs": [
        {
          "output_type": "stream",
          "name": "stdout",
          "text": [
            "Collecting streamlit\n",
            "  Downloading streamlit-1.41.1-py2.py3-none-any.whl.metadata (8.5 kB)\n",
            "Requirement already satisfied: pandas in /usr/local/lib/python3.10/dist-packages (2.2.2)\n",
            "Requirement already satisfied: plotly in /usr/local/lib/python3.10/dist-packages (5.24.1)\n",
            "Requirement already satisfied: altair<6,>=4.0 in /usr/local/lib/python3.10/dist-packages (from streamlit) (5.5.0)\n",
            "Requirement already satisfied: blinker<2,>=1.0.0 in /usr/local/lib/python3.10/dist-packages (from streamlit) (1.9.0)\n",
            "Requirement already satisfied: cachetools<6,>=4.0 in /usr/local/lib/python3.10/dist-packages (from streamlit) (5.5.0)\n",
            "Requirement already satisfied: click<9,>=7.0 in /usr/local/lib/python3.10/dist-packages (from streamlit) (8.1.7)\n",
            "Requirement already satisfied: numpy<3,>=1.23 in /usr/local/lib/python3.10/dist-packages (from streamlit) (1.26.4)\n",
            "Requirement already satisfied: packaging<25,>=20 in /usr/local/lib/python3.10/dist-packages (from streamlit) (24.2)\n",
            "Requirement already satisfied: pillow<12,>=7.1.0 in /usr/local/lib/python3.10/dist-packages (from streamlit) (11.0.0)\n",
            "Requirement already satisfied: protobuf<6,>=3.20 in /usr/local/lib/python3.10/dist-packages (from streamlit) (4.25.5)\n",
            "Requirement already satisfied: pyarrow>=7.0 in /usr/local/lib/python3.10/dist-packages (from streamlit) (17.0.0)\n",
            "Requirement already satisfied: requests<3,>=2.27 in /usr/local/lib/python3.10/dist-packages (from streamlit) (2.32.3)\n",
            "Requirement already satisfied: rich<14,>=10.14.0 in /usr/local/lib/python3.10/dist-packages (from streamlit) (13.9.4)\n",
            "Requirement already satisfied: tenacity<10,>=8.1.0 in /usr/local/lib/python3.10/dist-packages (from streamlit) (9.0.0)\n",
            "Requirement already satisfied: toml<2,>=0.10.1 in /usr/local/lib/python3.10/dist-packages (from streamlit) (0.10.2)\n",
            "Requirement already satisfied: typing-extensions<5,>=4.3.0 in /usr/local/lib/python3.10/dist-packages (from streamlit) (4.12.2)\n",
            "Collecting watchdog<7,>=2.1.5 (from streamlit)\n",
            "  Downloading watchdog-6.0.0-py3-none-manylinux2014_x86_64.whl.metadata (44 kB)\n",
            "\u001b[2K     \u001b[90m━━━━━━━━━━━━━━━━━━━━━━━━━━━━━━━━━━━━━━━━\u001b[0m \u001b[32m44.3/44.3 kB\u001b[0m \u001b[31m2.9 MB/s\u001b[0m eta \u001b[36m0:00:00\u001b[0m\n",
            "\u001b[?25hRequirement already satisfied: gitpython!=3.1.19,<4,>=3.0.7 in /usr/local/lib/python3.10/dist-packages (from streamlit) (3.1.43)\n",
            "Collecting pydeck<1,>=0.8.0b4 (from streamlit)\n",
            "  Downloading pydeck-0.9.1-py2.py3-none-any.whl.metadata (4.1 kB)\n",
            "Requirement already satisfied: tornado<7,>=6.0.3 in /usr/local/lib/python3.10/dist-packages (from streamlit) (6.3.3)\n",
            "Requirement already satisfied: python-dateutil>=2.8.2 in /usr/local/lib/python3.10/dist-packages (from pandas) (2.8.2)\n",
            "Requirement already satisfied: pytz>=2020.1 in /usr/local/lib/python3.10/dist-packages (from pandas) (2024.2)\n",
            "Requirement already satisfied: tzdata>=2022.7 in /usr/local/lib/python3.10/dist-packages (from pandas) (2024.2)\n",
            "Requirement already satisfied: jinja2 in /usr/local/lib/python3.10/dist-packages (from altair<6,>=4.0->streamlit) (3.1.4)\n",
            "Requirement already satisfied: jsonschema>=3.0 in /usr/local/lib/python3.10/dist-packages (from altair<6,>=4.0->streamlit) (4.23.0)\n",
            "Requirement already satisfied: narwhals>=1.14.2 in /usr/local/lib/python3.10/dist-packages (from altair<6,>=4.0->streamlit) (1.18.4)\n",
            "Requirement already satisfied: gitdb<5,>=4.0.1 in /usr/local/lib/python3.10/dist-packages (from gitpython!=3.1.19,<4,>=3.0.7->streamlit) (4.0.11)\n",
            "Requirement already satisfied: six>=1.5 in /usr/local/lib/python3.10/dist-packages (from python-dateutil>=2.8.2->pandas) (1.17.0)\n",
            "Requirement already satisfied: charset-normalizer<4,>=2 in /usr/local/lib/python3.10/dist-packages (from requests<3,>=2.27->streamlit) (3.4.0)\n",
            "Requirement already satisfied: idna<4,>=2.5 in /usr/local/lib/python3.10/dist-packages (from requests<3,>=2.27->streamlit) (3.10)\n",
            "Requirement already satisfied: urllib3<3,>=1.21.1 in /usr/local/lib/python3.10/dist-packages (from requests<3,>=2.27->streamlit) (2.2.3)\n",
            "Requirement already satisfied: certifi>=2017.4.17 in /usr/local/lib/python3.10/dist-packages (from requests<3,>=2.27->streamlit) (2024.12.14)\n",
            "Requirement already satisfied: markdown-it-py>=2.2.0 in /usr/local/lib/python3.10/dist-packages (from rich<14,>=10.14.0->streamlit) (3.0.0)\n",
            "Requirement already satisfied: pygments<3.0.0,>=2.13.0 in /usr/local/lib/python3.10/dist-packages (from rich<14,>=10.14.0->streamlit) (2.18.0)\n",
            "Requirement already satisfied: smmap<6,>=3.0.1 in /usr/local/lib/python3.10/dist-packages (from gitdb<5,>=4.0.1->gitpython!=3.1.19,<4,>=3.0.7->streamlit) (5.0.1)\n",
            "Requirement already satisfied: MarkupSafe>=2.0 in /usr/local/lib/python3.10/dist-packages (from jinja2->altair<6,>=4.0->streamlit) (3.0.2)\n",
            "Requirement already satisfied: attrs>=22.2.0 in /usr/local/lib/python3.10/dist-packages (from jsonschema>=3.0->altair<6,>=4.0->streamlit) (24.3.0)\n",
            "Requirement already satisfied: jsonschema-specifications>=2023.03.6 in /usr/local/lib/python3.10/dist-packages (from jsonschema>=3.0->altair<6,>=4.0->streamlit) (2024.10.1)\n",
            "Requirement already satisfied: referencing>=0.28.4 in /usr/local/lib/python3.10/dist-packages (from jsonschema>=3.0->altair<6,>=4.0->streamlit) (0.35.1)\n",
            "Requirement already satisfied: rpds-py>=0.7.1 in /usr/local/lib/python3.10/dist-packages (from jsonschema>=3.0->altair<6,>=4.0->streamlit) (0.22.3)\n",
            "Requirement already satisfied: mdurl~=0.1 in /usr/local/lib/python3.10/dist-packages (from markdown-it-py>=2.2.0->rich<14,>=10.14.0->streamlit) (0.1.2)\n",
            "Downloading streamlit-1.41.1-py2.py3-none-any.whl (9.1 MB)\n",
            "\u001b[2K   \u001b[90m━━━━━━━━━━━━━━━━━━━━━━━━━━━━━━━━━━━━━━━━\u001b[0m \u001b[32m9.1/9.1 MB\u001b[0m \u001b[31m45.4 MB/s\u001b[0m eta \u001b[36m0:00:00\u001b[0m\n",
            "\u001b[?25hDownloading pydeck-0.9.1-py2.py3-none-any.whl (6.9 MB)\n",
            "\u001b[2K   \u001b[90m━━━━━━━━━━━━━━━━━━━━━━━━━━━━━━━━━━━━━━━━\u001b[0m \u001b[32m6.9/6.9 MB\u001b[0m \u001b[31m88.2 MB/s\u001b[0m eta \u001b[36m0:00:00\u001b[0m\n",
            "\u001b[?25hDownloading watchdog-6.0.0-py3-none-manylinux2014_x86_64.whl (79 kB)\n",
            "\u001b[2K   \u001b[90m━━━━━━━━━━━━━━━━━━━━━━━━━━━━━━━━━━━━━━━━\u001b[0m \u001b[32m79.1/79.1 kB\u001b[0m \u001b[31m6.2 MB/s\u001b[0m eta \u001b[36m0:00:00\u001b[0m\n",
            "\u001b[?25hInstalling collected packages: watchdog, pydeck, streamlit\n",
            "Successfully installed pydeck-0.9.1 streamlit-1.41.1 watchdog-6.0.0\n"
          ]
        }
      ]
    },
    {
      "cell_type": "code",
      "execution_count": null,
      "metadata": {
        "id": "yclV6OF6zWE7"
      },
      "outputs": [],
      "source": [
        "import streamlit as st\n",
        "import pandas as pd\n",
        "import plotly.express as px"
      ]
    },
    {
      "cell_type": "markdown",
      "source": [
        "# Data Wrangling"
      ],
      "metadata": {
        "id": "iI20MaO61GcJ"
      }
    },
    {
      "cell_type": "code",
      "source": [
        "import streamlit as st\n",
        "import pandas as pd\n",
        "import plotly.express as px\n",
        "# Gathering Data\n",
        "@st.cache_data\n",
        "def load_raw_data():\n",
        "    file_path = \"day.csv\"  # Pastikan file berada di lokasi ini atau sesuaikan\n",
        "    data = pd.read_csv(file_path)\n",
        "    return data\n",
        "\n",
        "# Assessing Data\n",
        "@st.cache_data\n",
        "def assess_data(data):\n",
        "    issues = {}\n",
        "    if data.isnull().sum().any():\n",
        "        issues['missing_values'] = data.isnull().sum().to_dict()\n",
        "    if (data.dtypes == object).any():\n",
        "        issues['object_columns'] = data.select_dtypes(include=['object']).columns.tolist()\n",
        "    return issues\n",
        "\n",
        "# Cleaning Data\n",
        "@st.cache_data\n",
        "def clean_data(raw_data):\n",
        "    data = raw_data.copy()\n",
        "    data['dteday'] = pd.to_datetime(data['dteday'])\n",
        "    data.rename(columns={\n",
        "        'yr': 'year',\n",
        "        'mnth': 'month',\n",
        "        'weathersit': 'weather',\n",
        "        'hum': 'humidity',\n",
        "        'cnt': 'total_rentals'\n",
        "    }, inplace=True)\n",
        "    data['is_weekend'] = data['weekday'].apply(lambda x: 1 if x in [0, 6] else 0)\n",
        "    season_mapping = {1: 'Spring', 2: 'Summer', 3: 'Fall', 4: 'Winter'}\n",
        "    data['season_name'] = data['season'].map(season_mapping)\n",
        "    return data\n",
        "\n",
        "# Load raw data and process it\n",
        "raw_data = load_raw_data()\n",
        "data_issues = assess_data(raw_data)\n",
        "data = clean_data(raw_data)\n",
        "\n",
        "# Streamlit app\n",
        "st.title(\"Data Analysis Dashboard Rental Sepeda\")\n",
        "\n",
        "# Sidebar for filtering\n",
        "year_filter = st.sidebar.multiselect(\"Select Year\", options=data['year'].unique(), default=data['year'].unique())\n",
        "season_filter = st.sidebar.multiselect(\"Select Season\", options=data['season_name'].unique(), default=data['season_name'].unique())\n",
        "\n",
        "# Filter data based on user input\n",
        "filtered_data = data[(data['year'].isin(year_filter)) & (data['season_name'].isin(season_filter))]\n",
        "\n",
        "# Display raw data\n",
        "if st.checkbox(\"Show Raw Data\"):\n",
        "    st.subheader(\"Raw Data\")\n",
        "    st.write(filtered_data)\n",
        "\n",
        "# Basic Statistics\n",
        "st.subheader(\"Basic Statistics\")\n",
        "st.write(filtered_data.describe())\n"
      ],
      "metadata": {
        "id": "gdHDV4sGzm9h"
      },
      "execution_count": null,
      "outputs": []
    },
    {
      "cell_type": "markdown",
      "source": [
        "# Exploratory Data Analysis"
      ],
      "metadata": {
        "id": "Idya81X09VoU"
      }
    },
    {
      "cell_type": "code",
      "source": [
        "# Exploratory Data Analysis (EDA)\n",
        "st.subheader(\"Exploratory Data Analysis\")\n",
        "\n",
        "# Total rentals by season\n",
        "season_rentals = filtered_data.groupby('season_name')['total_rentals'].sum()\n",
        "st.bar_chart(season_rentals, use_container_width=True)\n",
        "\n",
        "\n"
      ],
      "metadata": {
        "id": "hcv61sW89mvl"
      },
      "execution_count": null,
      "outputs": []
    },
    {
      "cell_type": "markdown",
      "source": [
        "# Visualisasi Data"
      ],
      "metadata": {
        "id": "_Ld2e6baAAMr"
      }
    },
    {
      "cell_type": "code",
      "source": [
        "# Total rentals by year\n",
        "year_rentals = filtered_data.groupby('year')['total_rentals'].sum()\n",
        "st.line_chart(year_rentals, use_container_width=True)\n",
        "\n",
        "# Scatter plot for temperature vs rentals\n",
        "st.subheader(\"Temperature vs Total Rentals\")\n",
        "st.write(\"Scatter plot showing the relationship between temperature and total rentals.\")\n",
        "st.plotly_chart(\n",
        "    px.scatter(filtered_data, x='temp', y='total_rentals', color='season_name',\n",
        "               labels={'temp': 'Temperature', 'total_rentals': 'Total Rentals'})\n",
        ")\n",
        "# Conclusion\n",
        "st.subheader(\"Conclusion\")\n",
        "st.markdown(\n",
        "    \"\"\"\n",
        "    - Bike rentals are influenced by season and temperature.\n",
        "    - Summer and Fall seasons have higher rental numbers.\n",
        "    - Warmer temperatures correlate with higher rentals.\n",
        "    \"\"\"\n",
        ")"
      ],
      "metadata": {
        "id": "ZOUVfTbtADiJ"
      },
      "execution_count": null,
      "outputs": []
    }
  ]
}