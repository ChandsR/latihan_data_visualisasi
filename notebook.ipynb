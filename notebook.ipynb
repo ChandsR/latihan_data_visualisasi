{
  "nbformat": 4,
  "nbformat_minor": 0,
  "metadata": {
    "colab": {
      "provenance": [],
      "toc_visible": true,
      "authorship_tag": "ABX9TyM2mMgVYvCbyBC/41J5NIHH",
      "include_colab_link": true
    },
    "kernelspec": {
      "name": "python3",
      "display_name": "Python 3"
    },
    "language_info": {
      "name": "python"
    }
  },
  "cells": [
    {
      "cell_type": "markdown",
      "metadata": {
        "id": "view-in-github",
        "colab_type": "text"
      },
      "source": [
        "<a href=\"https://colab.research.google.com/github/ChandsR/latihan_data_visualisasi/blob/main/notebook.ipynb\" target=\"_parent\"><img src=\"https://colab.research.google.com/assets/colab-badge.svg\" alt=\"Open In Colab\"/></a>"
      ]
    },
    {
      "cell_type": "markdown",
      "source": [
        "#Menyiapkan semua library yang dibutuhkan"
      ],
      "metadata": {
        "id": "kqtBZJ_A1XwI"
      }
    },
    {
      "cell_type": "code",
      "execution_count": null,
      "metadata": {
        "id": "yclV6OF6zWE7"
      },
      "outputs": [],
      "source": [
        "import streamlit as st\n",
        "import numpy as np\n",
        "import matplotlib.pyplot as plt\n",
        "import seaborn as sb\n",
        "import pandas as pd\n",
        "import plotly.express as px"
      ]
    },
    {
      "cell_type": "markdown",
      "source": [
        "# Data Wrangling"
      ],
      "metadata": {
        "id": "iI20MaO61GcJ"
      }
    },
    {
      "cell_type": "code",
      "source": [
        "# Gathering Data\n",
        "@st.cache_data\n",
        "def load_raw_data():\n",
        "    file_path = \"day.csv\"  # Pastikan file berada di lokasi ini atau sesuaikan\n",
        "    data = pd.read_csv(file_path)\n",
        "    return data\n",
        "\n",
        "# Assessing Data\n",
        "@st.cache_data\n",
        "def assess_data(data):\n",
        "    issues = {}\n",
        "    if data.isnull().sum().any():\n",
        "        issues['missing_values'] = data.isnull().sum().to_dict()\n",
        "    if (data.dtypes == object).any():\n",
        "        issues['object_columns'] = data.select_dtypes(include=['object']).columns.tolist()\n",
        "    return issues\n",
        "\n",
        "# Cleaning Data\n",
        "@st.cache_data\n",
        "def clean_data(raw_data):\n",
        "    data = raw_data.copy()\n",
        "    data['dteday'] = pd.to_datetime(data['dteday'])\n",
        "    data.rename(columns={\n",
        "        'yr': 'year',\n",
        "        'mnth': 'month',\n",
        "        'weathersit': 'weather',\n",
        "        'hum': 'humidity',\n",
        "        'cnt': 'total_rentals'\n",
        "    }, inplace=True)\n",
        "    data['is_weekend'] = data['weekday'].apply(lambda x: 1 if x in [0, 6] else 0)\n",
        "    season_mapping = {1: 'Spring', 2: 'Summer', 3: 'Fall', 4: 'Winter'}\n",
        "    data['season_name'] = data['season'].map(season_mapping)\n",
        "    return data\n",
        "\n",
        "# Load raw data and process it\n",
        "raw_data = load_raw_data()\n",
        "data_issues = assess_data(raw_data)\n",
        "data = clean_data(raw_data)\n",
        "\n",
        "# Streamlit app\n",
        "st.title(\"Data Analysis Dashboard Rental Sepeda\")\n",
        "\n",
        "# Sidebar for filtering\n",
        "year_filter = st.sidebar.multiselect(\"Select Year\", options=data['year'].unique(), default=data['year'].unique())\n",
        "season_filter = st.sidebar.multiselect(\"Select Season\", options=data['season_name'].unique(), default=data['season_name'].unique())\n",
        "\n",
        "# Filter data based on user input\n",
        "filtered_data = data[(data['year'].isin(year_filter)) & (data['season_name'].isin(season_filter))]\n",
        "\n",
        "# Display raw data\n",
        "if st.checkbox(\"Show Raw Data\"):\n",
        "    st.subheader(\"Raw Data\")\n",
        "    st.write(filtered_data)\n",
        "\n",
        "# Basic Statistics\n",
        "st.subheader(\"Basic Statistics\")\n",
        "st.write(filtered_data.describe())\n"
      ],
      "metadata": {
        "id": "gdHDV4sGzm9h"
      },
      "execution_count": null,
      "outputs": []
    },
    {
      "cell_type": "markdown",
      "source": [
        "# Exploratory Data Analysis"
      ],
      "metadata": {
        "id": "Idya81X09VoU"
      }
    },
    {
      "cell_type": "code",
      "source": [
        "# Exploratory Data Analysis (EDA)\n",
        "st.subheader(\"Exploratory Data Analysis\")\n",
        "\n",
        "# Total rentals by season\n",
        "season_rentals = filtered_data.groupby('season_name')['total_rentals'].sum()\n",
        "st.bar_chart(season_rentals, use_container_width=True)\n",
        "\n",
        "\n"
      ],
      "metadata": {
        "id": "hcv61sW89mvl"
      },
      "execution_count": null,
      "outputs": []
    },
    {
      "cell_type": "markdown",
      "source": [
        "# Visualisasi Data"
      ],
      "metadata": {
        "id": "_Ld2e6baAAMr"
      }
    },
    {
      "cell_type": "code",
      "source": [
        "# Total rentals by year\n",
        "year_rentals = filtered_data.groupby('year')['total_rentals'].sum()\n",
        "st.line_chart(year_rentals, use_container_width=True)\n",
        "\n",
        "# Scatter plot for temperature vs rentals\n",
        "st.subheader(\"Temperature vs Total Rentals\")\n",
        "st.write(\"Scatter plot showing the relationship between temperature and total rentals.\")\n",
        "st.plotly_chart(\n",
        "    px.scatter(filtered_data, x='temp', y='total_rentals', color='season_name',\n",
        "               labels={'temp': 'Temperature', 'total_rentals': 'Total Rentals'})\n",
        ")\n",
        "# Conclusion\n",
        "st.subheader(\"Conclusion\")\n",
        "st.markdown(\n",
        "    \"\"\"\n",
        "    - Bike rentals are influenced by season and temperature.\n",
        "    - Summer and Fall seasons have higher rental numbers.\n",
        "    - Warmer temperatures correlate with higher rentals.\n",
        "    \"\"\"\n",
        ")"
      ],
      "metadata": {
        "id": "ZOUVfTbtADiJ"
      },
      "execution_count": null,
      "outputs": []
    }
  ]
}